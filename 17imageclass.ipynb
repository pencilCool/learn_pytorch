{
 "cells": [
  {
   "cell_type": "code",
   "execution_count": 24,
   "metadata": {},
   "outputs": [
    {
     "name": "stdout",
     "output_type": "stream",
     "text": [
      "tensor([1.4891, 1.1289])\n",
      "tensor([0.5891, 0.4109])\n"
     ]
    }
   ],
   "source": [
    "import torch\n",
    "import torch.nn as nn\n",
    "\n",
    "# 2个神经元的输出y的数值为\n",
    "y = torch.randn(2)\n",
    "print(y)\n",
    "m = nn.Softmax(dim=0)\n",
    "out = m(y)\n",
    "print(out)"
   ]
  },
  {
   "cell_type": "code",
   "execution_count": 25,
   "metadata": {},
   "outputs": [
    {
     "name": "stdout",
     "output_type": "stream",
     "text": [
      "tensor([[13.5282, 27.1557]], grad_fn=<AddmmBackward0>)\n",
      "tensor([[1.2069e-06, 1.0000e+00]], grad_fn=<SoftmaxBackward0>)\n"
     ]
    }
   ],
   "source": [
    "x = torch.randint(0, 255, (1, 128*128), dtype=torch.float32)\n",
    "fc = nn.Linear(128*128, 2)\n",
    "y = fc(x)\n",
    "print(y)\n",
    "# 注意y的shape是(1, 2)\n",
    "output = nn.Softmax(dim=1)(y)\n",
    "print(output)"
   ]
  }
 ],
 "metadata": {
  "kernelspec": {
   "display_name": "venv",
   "language": "python",
   "name": "python3"
  },
  "language_info": {
   "codemirror_mode": {
    "name": "ipython",
    "version": 3
   },
   "file_extension": ".py",
   "mimetype": "text/x-python",
   "name": "python",
   "nbconvert_exporter": "python",
   "pygments_lexer": "ipython3",
   "version": "3.9.7"
  },
  "orig_nbformat": 4
 },
 "nbformat": 4,
 "nbformat_minor": 2
}
